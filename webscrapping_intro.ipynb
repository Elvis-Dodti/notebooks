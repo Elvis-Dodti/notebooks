{
 "cells": [
  {
   "cell_type": "markdown",
   "metadata": {},
   "source": [
    "## Code test for freelancing\n"
   ]
  },
  {
   "cell_type": "markdown",
   "metadata": {},
   "source": [
    "### Table from Website"
   ]
  },
  {
   "cell_type": "code",
   "execution_count": 5,
   "metadata": {},
   "outputs": [],
   "source": [
    "from bs4 import BeautifulSoup\n",
    "import requests\n",
    "import pandas\n"
   ]
  },
  {
   "cell_type": "code",
   "execution_count": 6,
   "metadata": {},
   "outputs": [
    {
     "name": "stdout",
     "output_type": "stream",
     "text": [
      "Acrobat Pro 2020 for Windows (English)\n"
     ]
    }
   ],
   "source": [
    "# request the data\n",
    "data = requests.get('https://www.techsoup.ca/product-catalog/products?page=1&referer_path=%2Fproduct-catalog')\n",
    "y = data.json()\n",
    "# print(y)\n",
    "soup = BeautifulSoup(y['products'],'html.parser').find_all(class_='ts-stock-product__title')\n",
    "print((soup[0].text).strip())\n"
   ]
  },
  {
   "cell_type": "code",
   "execution_count": 7,
   "metadata": {},
   "outputs": [
    {
     "data": {
      "text/plain": [
       "'              <li class=\"ts-stock-product\">\\n      <a class=\"ts-stock-product__url\" href=\"/content/acrobat-pro-2020-windows-english\" aria-labelledby=\"product-title-7318\" aria-describedby=\"product-description-7318\"></a>\\n      <div class=\"ts-stock-product__thumbnail\">\\n        <div class=\"img-wrapper\">\\n                                <img typeof=\"foaf:Image\" src=\"https://www.techsoup.ca/sites/default/files/styles/ppv4_catalog_100x100/public/CA_prod-adobe-acrobat-pro_Big%20%281%29_1.png?itok=vKC7_vRU\" alt=\"\" />                  </div>\\n      </div>\\n      <div class=\"ts-stock-product__details\">\\n        <div class=\"ts-stock-product__info\">\\n          <h2 class=\"ts-stock-product__title\" id=\"product-title-7318\">\\n            Acrobat Pro 2020 for Windows (English)          </h2>\\n          <div class=\"ts-stock-product__description\" id=\"product-description-7318\">Adobe Acrobat Pro 2020 is publishing software for viewing, creating, combining, and controlling</div>\\n        </div>\\n        <div class=\"ts-stock-product__price\">\\n          <span class=\"product-price-label\">Admin Fee:</span><span class=\"product-price-value\">$82.00\\u200e</span><span class=\"product-price-additional-price product-price-value\"></span>        </div>\\n      </div>\\n    </li>\\n              <li class=\"ts-stock-product\">\\n      <a class=\"ts-stock-product__url\" href=\"/content/adobe-creative-all-apps-plan-individual-membership-%E2%80%94-access-discounted-rates\" aria-labelledby=\"product-title-7391\" aria-describedby=\"product-description-7391\"></a>\\n      <div class=\"ts-stock-product__thumbnail\">\\n        <div class=\"img-wrapper\">\\n                                <img typeof=\"foaf:Image\" src=\"https://www.techsoup.ca/sites/default/files/styles/ppv4_catalog_100x100/public/CA_adobe-complete.jpg?itok=S_XIUo9S\" alt=\"\" />                  </div>\\n      </div>\\n      <div class=\"ts-stock-product__details\">\\n        <div class=\"ts-stock-product__info\">\\n          <h2 class=\"ts-stock-product__title\" id=\"product-title-7391\">\\n            Adobe Creative All Apps Plan Individual Membership — Access to Discounted Rates          </h2>\\n          <div class=\"ts-stock-product__description\" id=\"product-description-7391\">Adobe Creative Cloud is a collection of creative design desktop applications, mobile apps, and</div>\\n        </div>\\n        <div class=\"ts-stock-product__price\">\\n          <span class=\"product-price-label\">Admin Fee:</span><span class=\"product-price-value\">$7.00\\u200e</span><span class=\"product-price-additional-price product-price-value\">+ subscription</span>        </div>\\n      </div>\\n    </li>\\n              <li class=\"ts-stock-product\">\\n      <a class=\"ts-stock-product__url\" href=\"/content/cloudcare-managed-antivirus-%E2%80%93-1-year-subscription\" aria-labelledby=\"product-title-8078\" aria-describedby=\"product-description-8078\"></a>\\n      <div class=\"ts-stock-product__thumbnail\">\\n        <div class=\"img-wrapper\">\\n                                <img typeof=\"foaf:Image\" src=\"https://www.techsoup.ca/sites/default/files/styles/ppv4_catalog_100x100/public/program_logo_1.png?itok=0qbFQ-iI\" alt=\"\" />                  </div>\\n      </div>\\n      <div class=\"ts-stock-product__details\">\\n        <div class=\"ts-stock-product__info\">\\n          <h2 class=\"ts-stock-product__title\" id=\"product-title-8078\">\\n            CloudCare Managed Antivirus – 1-Year Subscription          </h2>\\n          <div class=\"ts-stock-product__description\" id=\"product-description-8078\">CloudCare Managed Antivirus is a cloud-based service that protects networked laptops, desktops, and</div>\\n        </div>\\n        <div class=\"ts-stock-product__price\">\\n          <span class=\"product-price-label\"></span><span class=\"product-price-value\"></span><span class=\"product-price-additional-price product-price-value\"></span>        </div>\\n      </div>\\n    </li>\\n              <li class=\"ts-stock-product\">\\n      <a class=\"ts-stock-product__url\" href=\"/content/windows-pro-full-operating-system-%E2%80%93-no-software-assurance\" aria-labelledby=\"product-title-8459\" aria-describedby=\"product-description-8459\"></a>\\n      <div class=\"ts-stock-product__thumbnail\">\\n        <div class=\"img-wrapper\">\\n                                <img typeof=\"foaf:Image\" src=\"https://www.techsoup.ca/sites/default/files/styles/ppv4_catalog_100x100/public/copy_of_prod-microsoft-windows-logo_0.png?itok=TdeVNI_8\" alt=\"\" />                  </div>\\n      </div>\\n      <div class=\"ts-stock-product__details\">\\n        <div class=\"ts-stock-product__info\">\\n          <h2 class=\"ts-stock-product__title\" id=\"product-title-8459\">\\n            Windows Pro Full Operating System – No Software Assurance          </h2>\\n          <div class=\"ts-stock-product__description\" id=\"product-description-8459\">Windows Pro full operating system is the full version of Microsoft\\'s desktop operating system</div>\\n        </div>\\n        <div class=\"ts-stock-product__price\">\\n          <span class=\"product-price-label\">Admin Fee:</span><span class=\"product-price-value\">$22.00\\u200e</span><span class=\"product-price-additional-price product-price-value\"></span>        </div>\\n      </div>\\n    </li>\\n              <li class=\"ts-stock-product\">\\n      <a class=\"ts-stock-product__url\" href=\"/content/acrobat-pro-2020-windows-french\" aria-labelledby=\"product-title-7307\" aria-describedby=\"product-description-7307\"></a>\\n      <div class=\"ts-stock-product__thumbnail\">\\n        <div class=\"img-wrapper\">\\n                                <img typeof=\"foaf:Image\" src=\"https://www.techsoup.ca/sites/default/files/styles/ppv4_catalog_100x100/public/CA_prod-adobe-acrobat-pro_Big%20%281%29.png?itok=OIyvL0Vz\" alt=\"\" />                  </div>\\n      </div>\\n      <div class=\"ts-stock-product__details\">\\n        <div class=\"ts-stock-product__info\">\\n          <h2 class=\"ts-stock-product__title\" id=\"product-title-7307\">\\n            Acrobat Pro 2020 for Windows (French)          </h2>\\n          <div class=\"ts-stock-product__description\" id=\"product-description-7307\">Adobe Acrobat Pro 2020 is publishing software for viewing, creating, combining, and controlling</div>\\n        </div>\\n        <div class=\"ts-stock-product__price\">\\n          <span class=\"product-price-label\">Admin Fee:</span><span class=\"product-price-value\">$82.00\\u200e</span><span class=\"product-price-additional-price product-price-value\"></span>        </div>\\n      </div>\\n    </li>\\n              <li class=\"ts-stock-product\">\\n      <a class=\"ts-stock-product__url\" href=\"/content/quickbooks-premier-canadian-edition-2021-1-user-license-includes-nonprofit-edition\" aria-labelledby=\"product-title-7355\" aria-describedby=\"product-description-7355\"></a>\\n      <div class=\"ts-stock-product__thumbnail\">\\n        <div class=\"img-wrapper\">\\n                                <img typeof=\"foaf:Image\" src=\"https://www.techsoup.ca/sites/default/files/styles/ppv4_catalog_100x100/public/CA_intuit-quickbooks-premier-2021_2_0.png?itok=f33dfjwh\" alt=\"\" />                  </div>\\n      </div>\\n      <div class=\"ts-stock-product__details\">\\n        <div class=\"ts-stock-product__info\">\\n          <h2 class=\"ts-stock-product__title\" id=\"product-title-7355\">\\n            QuickBooks Premier Canadian Edition 2021, 1 User License (Includes Nonprofit Edition)          </h2>\\n          <div class=\"ts-stock-product__description\" id=\"product-description-7355\">This product is out of stock</div>\\n        </div>\\n        <div class=\"ts-stock-product__price\">\\n          <span class=\"product-price-label\">Admin Fee:</span><span class=\"product-price-value\">$52.00\\u200e</span><span class=\"product-price-additional-price product-price-value\"></span>        </div>\\n      </div>\\n    </li>\\n              <li class=\"ts-stock-product\">\\n      <a class=\"ts-stock-product__url\" href=\"/content/photoshop-elements-2022-and-premiere-elements-2022-bundle\" aria-labelledby=\"product-title-7360\" aria-describedby=\"product-description-7360\"></a>\\n      <div class=\"ts-stock-product__thumbnail\">\\n        <div class=\"img-wrapper\">\\n                                <img typeof=\"foaf:Image\" src=\"https://www.techsoup.ca/sites/default/files/styles/ppv4_catalog_100x100/public/pepe_2022_logo_for_canada_resized.jpg?itok=-SysMnph\" alt=\"\" />                  </div>\\n      </div>\\n      <div class=\"ts-stock-product__details\">\\n        <div class=\"ts-stock-product__info\">\\n          <h2 class=\"ts-stock-product__title\" id=\"product-title-7360\">\\n            Photoshop Elements 2022 and Premiere Elements 2022 Bundle          </h2>\\n          <div class=\"ts-stock-product__description\" id=\"product-description-7360\">Photoshop Elements 2022&nbsp;and Premiere Elements 2022&nbsp;is a product that combines two Adobe</div>\\n        </div>\\n        <div class=\"ts-stock-product__price\">\\n          <span class=\"product-price-label\">Admin Fee:</span><span class=\"product-price-value\">$41.00\\u200e</span><span class=\"product-price-additional-price product-price-value\"></span>        </div>\\n      </div>\\n    </li>\\n              <li class=\"ts-stock-product\">\\n      <a class=\"ts-stock-product__url\" href=\"/content/zoom-meetings-1-year-subscription-%E2%80%93-access-discounted-rates\" aria-labelledby=\"product-title-7372\" aria-describedby=\"product-description-7372\"></a>\\n      <div class=\"ts-stock-product__thumbnail\">\\n        <div class=\"img-wrapper\">\\n                                <img typeof=\"foaf:Image\" src=\"https://www.techsoup.ca/sites/default/files/styles/ppv4_catalog_100x100/public/CA_prod-zoom-logo_Big_1.png?itok=oivHLsMF\" alt=\"\" />                  </div>\\n      </div>\\n      <div class=\"ts-stock-product__details\">\\n        <div class=\"ts-stock-product__info\">\\n          <h2 class=\"ts-stock-product__title\" id=\"product-title-7372\">\\n            Zoom Meetings 1-Year Subscription – Access to Discounted Rates          </h2>\\n          <div class=\"ts-stock-product__description\" id=\"product-description-7372\">Zoom Meetings combines video and audio conferencing, simple online meetings, and group messaging</div>\\n        </div>\\n        <div class=\"ts-stock-product__price\">\\n          <span class=\"product-price-label\">Admin Fee:</span><span class=\"product-price-value\">$78.00\\u200e</span><span class=\"product-price-additional-price product-price-value\">+ subscription</span>        </div>\\n      </div>\\n    </li>\\n              <li class=\"ts-stock-product\">\\n      <a class=\"ts-stock-product__url\" href=\"/content/bitdefender-gravityzone-business-security-25-devices\" aria-labelledby=\"product-title-7294\" aria-describedby=\"product-description-7294\"></a>\\n      <div class=\"ts-stock-product__thumbnail\">\\n        <div class=\"img-wrapper\">\\n                                <img typeof=\"foaf:Image\" src=\"https://www.techsoup.ca/sites/default/files/styles/ppv4_catalog_100x100/public/CA_Bitdefender%20Gravity%20Zone%202016_0.jpg?itok=uLvr4ZAs\" alt=\"\" />                  </div>\\n      </div>\\n      <div class=\"ts-stock-product__details\">\\n        <div class=\"ts-stock-product__info\">\\n          <h2 class=\"ts-stock-product__title\" id=\"product-title-7294\">\\n            Bitdefender GravityZone Business Security, 25 Devices          </h2>\\n          <div class=\"ts-stock-product__description\" id=\"product-description-7294\">Bitdefender GravityZone Business Security is software that protects networked laptops, desktops,</div>\\n        </div>\\n        <div class=\"ts-stock-product__price\">\\n          <span class=\"product-price-label\">Admin Fee:</span><span class=\"product-price-value\">$164.00\\u200e</span><span class=\"product-price-additional-price product-price-value\"></span>        </div>\\n      </div>\\n    </li>\\n              <li class=\"ts-stock-product\">\\n      <a class=\"ts-stock-product__url\" href=\"/content/acrobat-pro-2020-mac-english\" aria-labelledby=\"product-title-7336\" aria-describedby=\"product-description-7336\"></a>\\n      <div class=\"ts-stock-product__thumbnail\">\\n        <div class=\"img-wrapper\">\\n                                <img typeof=\"foaf:Image\" src=\"https://www.techsoup.ca/sites/default/files/styles/ppv4_catalog_100x100/public/CA_prod-adobe-acrobat-pro_Big%20%281%29_2.png?itok=AqxMjxtg\" alt=\"\" />                  </div>\\n      </div>\\n      <div class=\"ts-stock-product__details\">\\n        <div class=\"ts-stock-product__info\">\\n          <h2 class=\"ts-stock-product__title\" id=\"product-title-7336\">\\n            Acrobat Pro 2020 for Mac (English)          </h2>\\n          <div class=\"ts-stock-product__description\" id=\"product-description-7336\">Adobe Acrobat Pro 2020 is publishing software for viewing, creating, combining, and controlling</div>\\n        </div>\\n        <div class=\"ts-stock-product__price\">\\n          <span class=\"product-price-label\">Admin Fee:</span><span class=\"product-price-value\">$82.00\\u200e</span><span class=\"product-price-additional-price product-price-value\"></span>        </div>\\n      </div>\\n    </li>\\n              <li class=\"ts-stock-product\">\\n      <a class=\"ts-stock-product__url\" href=\"/content/asana-premium-or-business-1-year-subscription-access-discounted-rates\" aria-labelledby=\"product-title-7384\" aria-describedby=\"product-description-7384\"></a>\\n      <div class=\"ts-stock-product__thumbnail\">\\n        <div class=\"img-wrapper\">\\n                                <img typeof=\"foaf:Image\" src=\"https://www.techsoup.ca/sites/default/files/styles/ppv4_catalog_100x100/public/CA_Asana%20Logo%20200x200_0.jpg?itok=5Gc5q4Yf\" alt=\"\" />                  </div>\\n      </div>\\n      <div class=\"ts-stock-product__details\">\\n        <div class=\"ts-stock-product__info\">\\n          <h2 class=\"ts-stock-product__title\" id=\"product-title-7384\">\\n            Asana Premium or Business, 1-Year Subscription,  Access to Discounted Rates          </h2>\\n          <div class=\"ts-stock-product__description\" id=\"product-description-7384\">Asana is an online collaborative work management software that helps teams coordinate and manage</div>\\n        </div>\\n        <div class=\"ts-stock-product__price\">\\n          <span class=\"product-price-label\">Admin Fee:</span><span class=\"product-price-value\">$0.00\\u200e</span><span class=\"product-price-additional-price product-price-value\"></span>        </div>\\n      </div>\\n    </li>\\n              <li class=\"ts-stock-product\">\\n      <a class=\"ts-stock-product__url\" href=\"/content/wix-unlimited-premium-plan-2-year-subscription-access-discounted-rates\" aria-labelledby=\"product-title-7398\" aria-describedby=\"product-description-7398\"></a>\\n      <div class=\"ts-stock-product__thumbnail\">\\n        <div class=\"img-wrapper\">\\n                                <img typeof=\"foaf:Image\" src=\"https://www.techsoup.ca/sites/default/files/styles/ppv4_catalog_100x100/public/CA_Wix%20200x200.png?itok=lsTpsQAM\" alt=\"\" />                  </div>\\n      </div>\\n      <div class=\"ts-stock-product__details\">\\n        <div class=\"ts-stock-product__info\">\\n          <h2 class=\"ts-stock-product__title\" id=\"product-title-7398\">\\n            Wix Unlimited Premium Plan, 2-Year Subscription - Access to Discounted Rates          </h2>\\n          <div class=\"ts-stock-product__description\" id=\"product-description-7398\">The Wix Unlimited Premium plan is a subscription option for Wix\\'s online development platform that</div>\\n        </div>\\n        <div class=\"ts-stock-product__price\">\\n          <span class=\"product-price-label\">Admin Fee:</span><span class=\"product-price-value\">$15.00\\u200e</span><span class=\"product-price-additional-price product-price-value\"></span>        </div>\\n      </div>\\n    </li>\\n              <li class=\"ts-stock-product\">\\n      <a class=\"ts-stock-product__url\" href=\"/content/google-non-profits\" aria-labelledby=\"product-title-6348\" aria-describedby=\"product-description-6348\"></a>\\n      <div class=\"ts-stock-product__thumbnail\">\\n        <div class=\"img-wrapper\">\\n                                <img typeof=\"foaf:Image\" src=\"https://www.techsoup.ca/sites/default/files/styles/ppv4_catalog_100x100/public/google-186x60_0_0.png?itok=v8agVw4j\" alt=\"\" />                  </div>\\n      </div>\\n      <div class=\"ts-stock-product__details\">\\n        <div class=\"ts-stock-product__info\">\\n          <h2 class=\"ts-stock-product__title\" id=\"product-title-6348\">\\n            Google For Non Profits          </h2>\\n          <div class=\"ts-stock-product__description\" id=\"product-description-6348\">The&nbsp;Google for Nonprofits&nbsp;Program offers qualified organizations access to free versions</div>\\n        </div>\\n        <div class=\"ts-stock-product__price\">\\n          <span class=\"product-price-label\"></span><span class=\"product-price-value\"></span><span class=\"product-price-additional-price product-price-value\"></span>        </div>\\n      </div>\\n    </li>\\n              <li class=\"ts-stock-product\">\\n      <a class=\"ts-stock-product__url\" href=\"/content/callbridge-deluxe-1-host-1-year-renewable-subscription-donated\" aria-labelledby=\"product-title-6410\" aria-describedby=\"product-description-6410\"></a>\\n      <div class=\"ts-stock-product__thumbnail\">\\n        <div class=\"img-wrapper\">\\n                                <img typeof=\"foaf:Image\" src=\"https://www.techsoup.ca/sites/default/files/styles/ppv4_catalog_100x100/public/CA_%20Callbridge-logo%202019-09-17_0.png?itok=ajuaDALT\" alt=\"\" />                  </div>\\n      </div>\\n      <div class=\"ts-stock-product__details\">\\n        <div class=\"ts-stock-product__info\">\\n          <h2 class=\"ts-stock-product__title\" id=\"product-title-6410\">\\n            Callbridge Deluxe 1 host - 1-year renewable subscription (Donated)          </h2>\\n          <div class=\"ts-stock-product__description\" id=\"product-description-6410\">Callbridge is a video and audio conferencing platform that enables seamless online meetings and</div>\\n        </div>\\n        <div class=\"ts-stock-product__price\">\\n          <span class=\"product-price-label\">Admin Fee:</span><span class=\"product-price-value\">$129.00\\u200e</span><span class=\"product-price-additional-price product-price-value\"></span>        </div>\\n      </div>\\n    </li>\\n              <li class=\"ts-stock-product\">\\n      <a class=\"ts-stock-product__url\" href=\"/content/quickbooks-premier-canadian-edition-2021-3-user-license-includes-nonprofit-edition\" aria-labelledby=\"product-title-7354\" aria-describedby=\"product-description-7354\"></a>\\n      <div class=\"ts-stock-product__thumbnail\">\\n        <div class=\"img-wrapper\">\\n                                <img typeof=\"foaf:Image\" src=\"https://www.techsoup.ca/sites/default/files/styles/ppv4_catalog_100x100/public/CA_intuit-quickbooks-premier-2021_2.png?itok=dSalHtkb\" alt=\"\" />                  </div>\\n      </div>\\n      <div class=\"ts-stock-product__details\">\\n        <div class=\"ts-stock-product__info\">\\n          <h2 class=\"ts-stock-product__title\" id=\"product-title-7354\">\\n            QuickBooks Premier Canadian Edition 2021, 3 User License (Includes Nonprofit Edition)          </h2>\\n          <div class=\"ts-stock-product__description\" id=\"product-description-7354\">QuickBooks Premier 2021 is accounting software that helps organizations manage essential financial</div>\\n        </div>\\n        <div class=\"ts-stock-product__price\">\\n          <span class=\"product-price-label\">Admin Fee:</span><span class=\"product-price-value\">$128.00\\u200e</span><span class=\"product-price-additional-price product-price-value\"></span>        </div>\\n      </div>\\n    </li>\\n              <li class=\"ts-stock-product\">\\n      <a class=\"ts-stock-product__url\" href=\"/content/docusign-standard-edition-perpetual-subscription\" aria-labelledby=\"product-title-7394\" aria-describedby=\"product-description-7394\"></a>\\n      <div class=\"ts-stock-product__thumbnail\">\\n        <div class=\"img-wrapper\">\\n                                <img typeof=\"foaf:Image\" src=\"https://www.techsoup.ca/sites/default/files/styles/ppv4_catalog_100x100/public/CA_DocuSign%20Square%20Product%20Logo%20_%20Resized.png?itok=JNyAmnQ-\" alt=\"\" />                  </div>\\n      </div>\\n      <div class=\"ts-stock-product__details\">\\n        <div class=\"ts-stock-product__info\">\\n          <h2 class=\"ts-stock-product__title\" id=\"product-title-7394\">\\n            DocuSign Standard Edition, Perpetual Subscription          </h2>\\n          <div class=\"ts-stock-product__description\" id=\"product-description-7394\">DocuSign Standard Edition is a web-based service that allows you to upload and send documents for</div>\\n        </div>\\n        <div class=\"ts-stock-product__price\">\\n          <span class=\"product-price-label\">Admin Fee:</span><span class=\"product-price-value\">$121.00\\u200e</span><span class=\"product-price-additional-price product-price-value\"></span>        </div>\\n      </div>\\n    </li>\\n              <li class=\"ts-stock-product\">\\n      <a class=\"ts-stock-product__url\" href=\"/content/dell-optiplex-5050-sff\" aria-labelledby=\"product-title-6396\" aria-describedby=\"product-description-6396\"></a>\\n      <div class=\"ts-stock-product__thumbnail\">\\n        <div class=\"img-wrapper\">\\n                                <img typeof=\"foaf:Image\" src=\"https://www.techsoup.ca/sites/default/files/styles/ppv4_catalog_100x100/public/CA_Dell%20OptiPlex%205050%20200x200.jpg?itok=QTIUQqf6\" alt=\"\" />                  </div>\\n      </div>\\n      <div class=\"ts-stock-product__details\">\\n        <div class=\"ts-stock-product__info\">\\n          <h2 class=\"ts-stock-product__title\" id=\"product-title-6396\">\\n            Dell OptiPlex 5050 SFF          </h2>\\n          <div class=\"ts-stock-product__description\" id=\"product-description-6396\">This is a discounted, refurbished desktop computer provided by CNB Computers Inc</div>\\n        </div>\\n        <div class=\"ts-stock-product__price\">\\n          <span class=\"product-price-label\">Admin Fee:</span><span class=\"product-price-value\">$365.00\\u200e</span><span class=\"product-price-additional-price product-price-value\"></span>        </div>\\n      </div>\\n    </li>\\n              <li class=\"ts-stock-product\">\\n      <a class=\"ts-stock-product__url\" href=\"/content/lenovo-affinity-program-1-year-membership-%E2%80%93-access-discounted-hardware\" aria-labelledby=\"product-title-7191\" aria-describedby=\"product-description-7191\"></a>\\n      <div class=\"ts-stock-product__thumbnail\">\\n        <div class=\"img-wrapper\">\\n                                <img typeof=\"foaf:Image\" src=\"https://www.techsoup.ca/sites/default/files/styles/ppv4_catalog_100x100/public/lenovologo-pos-red_0.png?itok=hnewfeuy\" alt=\"\" />                  </div>\\n      </div>\\n      <div class=\"ts-stock-product__details\">\\n        <div class=\"ts-stock-product__info\">\\n          <h2 class=\"ts-stock-product__title\" id=\"product-title-7191\">\\n            Lenovo Affinity Program 1-Year Membership – Access to Discounted Hardware           </h2>\\n          <div class=\"ts-stock-product__description\" id=\"product-description-7191\">The Lenovo Affinity Program is a collection of discounts for nonprofits and libraries for desktops,</div>\\n        </div>\\n        <div class=\"ts-stock-product__price\">\\n          <span class=\"product-price-label\">Admin Fee:</span><span class=\"product-price-value\">$14.00\\u200e</span><span class=\"product-price-additional-price product-price-value\"></span>        </div>\\n      </div>\\n    </li>\\n              <li class=\"ts-stock-product\">\\n      <a class=\"ts-stock-product__url\" href=\"/content/sumac-crm-standard-1500\" aria-labelledby=\"product-title-8038\" aria-describedby=\"product-description-8038\"></a>\\n      <div class=\"ts-stock-product__thumbnail\">\\n        <div class=\"img-wrapper\">\\n                                <img typeof=\"foaf:Image\" src=\"https://www.techsoup.ca/sites/default/files/styles/ppv4_catalog_100x100/public/3592cbbc-4a4c-4589-b1f5-b1671cbd5cc8.png?itok=qdJ4WW0e\" alt=\"\" />                  </div>\\n      </div>\\n      <div class=\"ts-stock-product__details\">\\n        <div class=\"ts-stock-product__info\">\\n          <h2 class=\"ts-stock-product__title\" id=\"product-title-8038\">\\n            Sumac CRM - Standard 1,500          </h2>\\n          <div class=\"ts-stock-product__description\" id=\"product-description-8038\">Sumac CRM is a powerful cloud-based CRM designed specifically for nonprofits</div>\\n        </div>\\n        <div class=\"ts-stock-product__price\">\\n          <span class=\"product-price-label\">Admin Fee:</span><span class=\"product-price-value\">$80.00\\u200e</span><span class=\"product-price-additional-price product-price-value\"></span>        </div>\\n      </div>\\n    </li>\\n              <li class=\"ts-stock-product\">\\n      <a class=\"ts-stock-product__url\" href=\"/content/sumac-crm-starter-750\" aria-labelledby=\"product-title-8041\" aria-describedby=\"product-description-8041\"></a>\\n      <div class=\"ts-stock-product__thumbnail\">\\n        <div class=\"img-wrapper\">\\n                                <img typeof=\"foaf:Image\" src=\"https://www.techsoup.ca/sites/default/files/styles/ppv4_catalog_100x100/public/3592cbbc-4a4c-4589-b1f5-b1671cbd5cc8.png?itok=qdJ4WW0e\" alt=\"\" />                  </div>\\n      </div>\\n      <div class=\"ts-stock-product__details\">\\n        <div class=\"ts-stock-product__info\">\\n          <h2 class=\"ts-stock-product__title\" id=\"product-title-8041\">\\n            Sumac CRM - Starter 750          </h2>\\n          <div class=\"ts-stock-product__description\" id=\"product-description-8041\">Sumac CRM is a powerful cloud-based CRM designed specifically for nonprofits</div>\\n        </div>\\n        <div class=\"ts-stock-product__price\">\\n          <span class=\"product-price-label\">Admin Fee:</span><span class=\"product-price-value\">$40.00\\u200e</span><span class=\"product-price-additional-price product-price-value\"></span>        </div>\\n      </div>\\n    </li>\\n  '"
      ]
     },
     "execution_count": 7,
     "metadata": {},
     "output_type": "execute_result"
    }
   ],
   "source": [
    "y['products']"
   ]
  },
  {
   "cell_type": "code",
   "execution_count": 8,
   "metadata": {},
   "outputs": [],
   "source": [
    "url = r'https://www.techsoup.ca/product-catalog/products?page={}&referer_path=%2Fproduct-catalog'\n",
    "base_url_class = 'ts-stock-product__url'\n",
    "base_url = 'https://www.techsoup.ca'\n",
    "product_class = 'ts-stock-product__title'"
   ]
  },
  {
   "cell_type": "code",
   "execution_count": 9,
   "metadata": {},
   "outputs": [],
   "source": [
    "pages = pandas.DataFrame()\n",
    "product = pandas.DataFrame()\n"
   ]
  },
  {
   "cell_type": "code",
   "execution_count": 10,
   "metadata": {},
   "outputs": [],
   "source": [
    "pages['PageNo'] = [x for x in range(1,17)]  \n",
    "pages['StatusCode'] = [requests.get(url.format(x)).status_code for x in range(1,17)]\n",
    "pages['ProductsPP'] = [requests.get(url.format(x)).json()['products'] for x in range(1,17)]\n"
   ]
  },
  {
   "cell_type": "code",
   "execution_count": 11,
   "metadata": {},
   "outputs": [],
   "source": [
    "url_data = []\n",
    "product_data = []\n",
    "for idx in range(len(pages)):\n",
    "    url_data += [x['href'] for x in BeautifulSoup(pages['ProductsPP'][idx],'html.parser').find_all(class_=base_url_class, href=True)]\n",
    "    product_data += [(x.text).strip() for x in BeautifulSoup(pages['ProductsPP'][idx],'html.parser').find_all(class_=product_class)]\n"
   ]
  },
  {
   "cell_type": "code",
   "execution_count": 12,
   "metadata": {},
   "outputs": [],
   "source": [
    "product['Product'] = product_data\n",
    "product['Partial_url'] = url_data"
   ]
  },
  {
   "cell_type": "code",
   "execution_count": 13,
   "metadata": {},
   "outputs": [
    {
     "data": {
      "text/html": [
       "<div>\n",
       "<style scoped>\n",
       "    .dataframe tbody tr th:only-of-type {\n",
       "        vertical-align: middle;\n",
       "    }\n",
       "\n",
       "    .dataframe tbody tr th {\n",
       "        vertical-align: top;\n",
       "    }\n",
       "\n",
       "    .dataframe thead th {\n",
       "        text-align: right;\n",
       "    }\n",
       "</style>\n",
       "<table border=\"1\" class=\"dataframe\">\n",
       "  <thead>\n",
       "    <tr style=\"text-align: right;\">\n",
       "      <th></th>\n",
       "      <th>Product</th>\n",
       "      <th>Partial_url</th>\n",
       "    </tr>\n",
       "  </thead>\n",
       "  <tbody>\n",
       "    <tr>\n",
       "      <th>0</th>\n",
       "      <td>Acrobat Pro 2020 for Windows (English)</td>\n",
       "      <td>/content/acrobat-pro-2020-windows-english</td>\n",
       "    </tr>\n",
       "    <tr>\n",
       "      <th>1</th>\n",
       "      <td>Adobe Creative All Apps Plan Individual Member...</td>\n",
       "      <td>/content/adobe-creative-all-apps-plan-individu...</td>\n",
       "    </tr>\n",
       "    <tr>\n",
       "      <th>2</th>\n",
       "      <td>CloudCare Managed Antivirus – 1-Year Subscription</td>\n",
       "      <td>/content/cloudcare-managed-antivirus-%E2%80%93...</td>\n",
       "    </tr>\n",
       "    <tr>\n",
       "      <th>3</th>\n",
       "      <td>Windows Pro Full Operating System – No Softwar...</td>\n",
       "      <td>/content/windows-pro-full-operating-system-%E2...</td>\n",
       "    </tr>\n",
       "    <tr>\n",
       "      <th>4</th>\n",
       "      <td>Acrobat Pro 2020 for Windows (French)</td>\n",
       "      <td>/content/acrobat-pro-2020-windows-french</td>\n",
       "    </tr>\n",
       "  </tbody>\n",
       "</table>\n",
       "</div>"
      ],
      "text/plain": [
       "                                             Product  \\\n",
       "0             Acrobat Pro 2020 for Windows (English)   \n",
       "1  Adobe Creative All Apps Plan Individual Member...   \n",
       "2  CloudCare Managed Antivirus – 1-Year Subscription   \n",
       "3  Windows Pro Full Operating System – No Softwar...   \n",
       "4              Acrobat Pro 2020 for Windows (French)   \n",
       "\n",
       "                                         Partial_url  \n",
       "0          /content/acrobat-pro-2020-windows-english  \n",
       "1  /content/adobe-creative-all-apps-plan-individu...  \n",
       "2  /content/cloudcare-managed-antivirus-%E2%80%93...  \n",
       "3  /content/windows-pro-full-operating-system-%E2...  \n",
       "4           /content/acrobat-pro-2020-windows-french  "
      ]
     },
     "execution_count": 13,
     "metadata": {},
     "output_type": "execute_result"
    }
   ],
   "source": [
    "product.head()"
   ]
  },
  {
   "cell_type": "code",
   "execution_count": 14,
   "metadata": {},
   "outputs": [],
   "source": [
    "# product.drop(['Product_url'], axis=1)"
   ]
  },
  {
   "cell_type": "code",
   "execution_count": 15,
   "metadata": {},
   "outputs": [],
   "source": [
    "product['Product_url'] = base_url + product['Partial_url']"
   ]
  },
  {
   "cell_type": "code",
   "execution_count": 16,
   "metadata": {},
   "outputs": [
    {
     "data": {
      "text/plain": [
       "301"
      ]
     },
     "execution_count": 16,
     "metadata": {},
     "output_type": "execute_result"
    }
   ],
   "source": [
    "len(product)"
   ]
  },
  {
   "cell_type": "code",
   "execution_count": 36,
   "metadata": {},
   "outputs": [],
   "source": [
    "# details section\n",
    "\n",
    "details_class = 'product-details__fields-group'\n",
    "field_label = 'field-label'\n",
    "field_items = 'field-items'\n",
    "admin_container = 'field field-name-commerce-price field-type-commerce-price field-label-inline clearfix'\n",
    "admin_fee_class = 'field-item even'\n",
    "description_container = 'field field-name-field-description field-type-text-long field-label-above'\n"
   ]
  },
  {
   "cell_type": "code",
   "execution_count": 69,
   "metadata": {},
   "outputs": [
    {
     "ename": "KeyError",
     "evalue": "'Donor Partner'",
     "output_type": "error",
     "traceback": [
      "\u001b[1;31m---------------------------------------------------------------------------\u001b[0m",
      "\u001b[1;31mKeyError\u001b[0m                                  Traceback (most recent call last)",
      "\u001b[1;32m<ipython-input-69-0d79368fa8ce>\u001b[0m in \u001b[0;36m<module>\u001b[1;34m\u001b[0m\n\u001b[0;32m      9\u001b[0m \u001b[1;32mfor\u001b[0m \u001b[0mi\u001b[0m \u001b[1;32min\u001b[0m \u001b[0mrange\u001b[0m\u001b[1;33m(\u001b[0m\u001b[0mlen\u001b[0m\u001b[1;33m(\u001b[0m\u001b[0mx\u001b[0m\u001b[1;33m)\u001b[0m\u001b[1;33m)\u001b[0m\u001b[1;33m:\u001b[0m\u001b[1;33m\u001b[0m\u001b[1;33m\u001b[0m\u001b[0m\n\u001b[0;32m     10\u001b[0m     \u001b[1;32mtry\u001b[0m\u001b[1;33m:\u001b[0m\u001b[1;33m\u001b[0m\u001b[1;33m\u001b[0m\u001b[0m\n\u001b[1;32m---> 11\u001b[1;33m         \u001b[0mitem_details\u001b[0m\u001b[1;33m[\u001b[0m\u001b[0my\u001b[0m\u001b[1;33m[\u001b[0m\u001b[0mi\u001b[0m\u001b[1;33m]\u001b[0m\u001b[1;33m.\u001b[0m\u001b[0mtext\u001b[0m\u001b[1;33m.\u001b[0m\u001b[0mstrip\u001b[0m\u001b[1;33m(\u001b[0m\u001b[1;33m)\u001b[0m\u001b[1;33m.\u001b[0m\u001b[0mstrip\u001b[0m\u001b[1;33m(\u001b[0m\u001b[1;34m':'\u001b[0m\u001b[1;33m)\u001b[0m\u001b[1;33m]\u001b[0m \u001b[1;33m+=\u001b[0m \u001b[1;33m[\u001b[0m\u001b[0mx\u001b[0m\u001b[1;33m[\u001b[0m\u001b[0mi\u001b[0m\u001b[1;33m]\u001b[0m\u001b[1;33m.\u001b[0m\u001b[0mfind\u001b[0m\u001b[1;33m(\u001b[0m\u001b[0mhref\u001b[0m\u001b[1;33m=\u001b[0m\u001b[1;32mTrue\u001b[0m\u001b[1;33m)\u001b[0m\u001b[1;33m.\u001b[0m\u001b[0mtext\u001b[0m\u001b[1;33m]\u001b[0m\u001b[1;33m\u001b[0m\u001b[1;33m\u001b[0m\u001b[0m\n\u001b[0m\u001b[0;32m     12\u001b[0m     \u001b[1;32mexcept\u001b[0m \u001b[0mAttributeError\u001b[0m\u001b[1;33m:\u001b[0m\u001b[1;33m\u001b[0m\u001b[1;33m\u001b[0m\u001b[0m\n\u001b[0;32m     13\u001b[0m         \u001b[0mitem_details\u001b[0m\u001b[1;33m[\u001b[0m\u001b[0my\u001b[0m\u001b[1;33m[\u001b[0m\u001b[0mi\u001b[0m\u001b[1;33m]\u001b[0m\u001b[1;33m.\u001b[0m\u001b[0mtext\u001b[0m\u001b[1;33m.\u001b[0m\u001b[0mstrip\u001b[0m\u001b[1;33m(\u001b[0m\u001b[1;33m)\u001b[0m\u001b[1;33m.\u001b[0m\u001b[0mstrip\u001b[0m\u001b[1;33m(\u001b[0m\u001b[1;34m':'\u001b[0m\u001b[1;33m)\u001b[0m\u001b[1;33m]\u001b[0m \u001b[1;33m+=\u001b[0m \u001b[1;33m[\u001b[0m\u001b[0mx\u001b[0m\u001b[1;33m[\u001b[0m\u001b[0mi\u001b[0m\u001b[1;33m]\u001b[0m\u001b[1;33m.\u001b[0m\u001b[0mtext\u001b[0m\u001b[1;33m.\u001b[0m\u001b[0mstrip\u001b[0m\u001b[1;33m(\u001b[0m\u001b[1;33m)\u001b[0m\u001b[1;33m]\u001b[0m\u001b[1;33m\u001b[0m\u001b[1;33m\u001b[0m\u001b[0m\n",
      "\u001b[1;31mKeyError\u001b[0m: 'Donor Partner'"
     ]
    }
   ],
   "source": [
    "# request the data\n",
    "data = requests.get('https://www.techsoup.ca/content/acrobat-pro-2020-windows-french')\n",
    "\n",
    "soup = BeautifulSoup(data.text,'html.parser').find(class_=details_class)\n",
    "x = soup.find_all(class_=field_items)\n",
    "y = soup.find_all(class_=field_label)\n",
    "# len(x) == len(y)\n",
    "item_details = {}\n",
    "for i in range(len(x)):\n",
    "    try:\n",
    "        item_details[y[i].text.strip().strip(':')] += [x[i].find(href=True).text]\n",
    "    except AttributeError:\n",
    "        item_details[y[i].text.strip().strip(':')] += [x[i].text.strip()]\n",
    "item_details"
   ]
  },
  {
   "cell_type": "code",
   "execution_count": 19,
   "metadata": {
    "collapsed": true
   },
   "outputs": [
    {
     "name": "stdout",
     "output_type": "stream",
     "text": [
      "Description    \n",
      "\n",
      "Adobe Acrobat Pro 2020 is publishing software for viewing, creating, combining, and controlling Adobe PDF documents for distribution, collaboration, and data collection.\n",
      "This donation provides a license that allows a single user to install and use the software. The license key provided with this product will expire on December 1, 2026. See below for additional licensing information.\n",
      "Benefits for Organizations\n",
      "You can use Acrobat Pro to:\n",
      "\n",
      "Create and publish outreach materials or professional reports that combine multiple types of content\n",
      "Save paper and money by creating and distributing electronic documents and forms\n",
      "Ensure document accessibility for people with disabilities\n",
      "\n",
      "Major Capabilities\n",
      "\n",
      "Convert or scan to PDF: You can create Adobe PDF documents from any application that prints, including Microsoft Office software, web browsers like Chrome and Firefox, and Lotus Notes. PDFs can also be created from scanned paper documents and forms.\n",
      "Combine and compare files: You can combine a range of file types into a single PDF document or place them into a single portfolio. Documents and portfolios can include multimedia content, including FLV or H.264 video and web pages. You can also compare two version of a PDF document to detect any differences.\n",
      "Protect PDF files and documents: You can apply document controls and security with password protection; permissions for printing, copying, and changing; and digital signatures. You can also permanently remove concealed information and use redaction tools to permanently delete sensitive content.\n",
      "Collect data with fillable PDF forms: You can create fillable forms from scanned paper, PDF documents, Microsoft Word documents, or Excel spreadsheets. Filled-out forms can be collected into a searchable, sortable, PDF package, and their data can be exported into a spreadsheet.\n",
      "Perform collaborative document reviews: Multiple participants can conduct collaborative document reviews that allow reviewers to see one another's comments. Users of the free Acrobat Reader, as well as Acrobat Pro, can add comments to documents.\n",
      "Export PDF files: You can save entire PDF files or just selected portions of them as Microsoft Word, PowerPoint, or Excel documents, retaining layout, fonts, formatting, and tables.\n",
      "\n",
      "Licensing\n",
      "If you're the licensed user, you may also install and use the software on a secondary computer. The secondary computer may be a home computer or portable computer and must be of the same platform. You may not run the software simultaneously on both the primary and secondary computers.\n",
      "Choose Carefully\n",
      "The administrative fee for this product is not refundable, and the product cannot be exchanged.\n",
      "Obtaining This Product\n",
      "When your donation request has been approved, TechSoup Canada will send a message to your organization email address with instructions for obtaining and activating this product.\n"
     ]
    }
   ],
   "source": [
    "soup = BeautifulSoup(data.text,'html.parser').find(class_=description_container).text\n",
    "print(soup.strip())"
   ]
  },
  {
   "cell_type": "code",
   "execution_count": 20,
   "metadata": {},
   "outputs": [
    {
     "name": "stdout",
     "output_type": "stream",
     "text": [
      "['Adobe', 'French', 'Desktop Publishing', 'Download', 'Windows', nan]\n"
     ]
    }
   ],
   "source": [
    "import numpy as np\n",
    "sample = requests.get('https://www.techsoup.ca/content/cloudcare-managed-antivirus-%E2%80%93-1-year-subscription')\n",
    "\n",
    "try:\n",
    "    soup = BeautifulSoup(sample.text,'html.parser').find(class_=admin_container)\n",
    "    item_details += [soup.find(class_=admin_fee_class).text.strip('$\\u200e')]\n",
    "except AttributeError:\n",
    "    item_details += [np.nan]\n",
    "    print(item_details)\n"
   ]
  },
  {
   "cell_type": "code",
   "execution_count": 21,
   "metadata": {},
   "outputs": [
    {
     "data": {
      "text/plain": [
       "['Adobe', 'French', 'Desktop Publishing', 'Download', 'Windows', nan]"
      ]
     },
     "execution_count": 21,
     "metadata": {},
     "output_type": "execute_result"
    }
   ],
   "source": [
    "item_details"
   ]
  },
  {
   "cell_type": "code",
   "execution_count": 22,
   "metadata": {},
   "outputs": [
    {
     "data": {
      "text/html": [
       "<div>\n",
       "<style scoped>\n",
       "    .dataframe tbody tr th:only-of-type {\n",
       "        vertical-align: middle;\n",
       "    }\n",
       "\n",
       "    .dataframe tbody tr th {\n",
       "        vertical-align: top;\n",
       "    }\n",
       "\n",
       "    .dataframe thead th {\n",
       "        text-align: right;\n",
       "    }\n",
       "</style>\n",
       "<table border=\"1\" class=\"dataframe\">\n",
       "  <thead>\n",
       "    <tr style=\"text-align: right;\">\n",
       "      <th></th>\n",
       "      <th>DonorPartner</th>\n",
       "      <th>Language</th>\n",
       "      <th>SoftwareCategory</th>\n",
       "      <th>Media</th>\n",
       "      <th>Platform</th>\n",
       "      <th>ProductID</th>\n",
       "      <th>AdminFee</th>\n",
       "      <th>Description</th>\n",
       "    </tr>\n",
       "  </thead>\n",
       "  <tbody>\n",
       "    <tr>\n",
       "      <th>0</th>\n",
       "      <td>Adobe</td>\n",
       "      <td>French</td>\n",
       "      <td>Desktop Publishing</td>\n",
       "      <td>Download</td>\n",
       "      <td>Windows</td>\n",
       "      <td>G-47378</td>\n",
       "      <td>8</td>\n",
       "      <td>2</td>\n",
       "    </tr>\n",
       "  </tbody>\n",
       "</table>\n",
       "</div>"
      ],
      "text/plain": [
       "  DonorPartner Language    SoftwareCategory     Media Platform ProductID  \\\n",
       "0        Adobe   French  Desktop Publishing  Download  Windows   G-47378   \n",
       "\n",
       "  AdminFee Description  \n",
       "0        8           2  "
      ]
     },
     "execution_count": 22,
     "metadata": {},
     "output_type": "execute_result"
    }
   ],
   "source": [
    "df = pandas.DataFrame(columns=['DonorPartner', 'Language','SoftwareCategory', 'Media', 'Platform', 'ProductID', 'AdminFee', 'Description'])\n",
    "\n",
    "df.loc[len(df)] = ['Adobe',\n",
    " 'French',\n",
    " 'Desktop Publishing',\n",
    " 'Download',\n",
    " 'Windows',\n",
    " 'G-47378',\n",
    " '8',\n",
    " '2',\n",
    "]\n",
    "df"
   ]
  },
  {
   "cell_type": "code",
   "execution_count": 46,
   "metadata": {},
   "outputs": [],
   "source": [
    "import numpy as np\n",
    "import pandas as pd\n",
    "\n",
    "\n",
    "df = pd.DataFrame(columns=['DonorPartner', 'Language','SoftwareCategory', 'Media', 'Platform', 'ProductID', 'AdminFee', 'Description'])\n",
    "def extractor(data):\n",
    "    # containers info\n",
    "\n",
    "    details_class = 'product-details__fields-group'\n",
    "    field_label = 'field-label'\n",
    "    field_items = 'field-items'\n",
    "    admin_container = 'field field-name-commerce-price field-type-commerce-price field-label-inline clearfix'\n",
    "    admin_fee_class = 'field-item even'\n",
    "    description_container = 'field field-name-field-description field-type-text-long field-label-above'\n",
    "    \n",
    "    # Details Section\n",
    "    soup = BeautifulSoup(data.text,'html.parser').find(class_=details_class)\n",
    "    x = soup.find_all(class_=field_items)\n",
    "    item_details = []\n",
    "    for i in range(len(x)):\n",
    "        try:\n",
    "            item_details += [x[i].find(href=True).text]\n",
    "        except AttributeError:\n",
    "            item_details += [(x[i].text).strip()]\n",
    "\n",
    "    # Admin fee\n",
    "    try:\n",
    "        soup = BeautifulSoup(data.text,'html.parser').find(class_=admin_container)\n",
    "        item_details += [float(soup.find(class_=admin_fee_class).text.strip('$\\u200e'))]\n",
    "    except AttributeError:\n",
    "        item_details += ['']\n",
    "    print(item_details)\n",
    "    # description\n",
    "    try:\n",
    "        soup = BeautifulSoup(data.text,'html.parser').find(class_=description_container).text\n",
    "        item_details += [soup.strip()]\n",
    "        \n",
    "    except AttributeError:\n",
    "        item_details += ['']\n",
    "    \n",
    "    \n",
    "    \n",
    "    \n",
    "    \n",
    "    \n",
    "    "
   ]
  },
  {
   "cell_type": "code",
   "execution_count": 47,
   "metadata": {},
   "outputs": [
    {
     "data": {
      "text/html": [
       "<div>\n",
       "<style scoped>\n",
       "    .dataframe tbody tr th:only-of-type {\n",
       "        vertical-align: middle;\n",
       "    }\n",
       "\n",
       "    .dataframe tbody tr th {\n",
       "        vertical-align: top;\n",
       "    }\n",
       "\n",
       "    .dataframe thead th {\n",
       "        text-align: right;\n",
       "    }\n",
       "</style>\n",
       "<table border=\"1\" class=\"dataframe\">\n",
       "  <thead>\n",
       "    <tr style=\"text-align: right;\">\n",
       "      <th></th>\n",
       "      <th>DonorPartner</th>\n",
       "      <th>Language</th>\n",
       "      <th>SoftwareCategory</th>\n",
       "      <th>Media</th>\n",
       "      <th>Platform</th>\n",
       "      <th>ProductID</th>\n",
       "      <th>AdminFee</th>\n",
       "      <th>Description</th>\n",
       "    </tr>\n",
       "  </thead>\n",
       "  <tbody>\n",
       "  </tbody>\n",
       "</table>\n",
       "</div>"
      ],
      "text/plain": [
       "Empty DataFrame\n",
       "Columns: [DonorPartner, Language, SoftwareCategory, Media, Platform, ProductID, AdminFee, Description]\n",
       "Index: []"
      ]
     },
     "execution_count": 47,
     "metadata": {},
     "output_type": "execute_result"
    }
   ],
   "source": [
    "df"
   ]
  },
  {
   "cell_type": "code",
   "execution_count": 48,
   "metadata": {},
   "outputs": [
    {
     "name": "stdout",
     "output_type": "stream",
     "text": [
      "301 0\n"
     ]
    }
   ],
   "source": [
    "true_count = 0\n",
    "false_count = 0\n",
    "for idx in range(len(product)):\n",
    "    req = requests.get(product['Product_url'][idx])\n",
    "    if extractor(req):\n",
    "        true_count += 1\n",
    "    else:\n",
    "        false_count += 1\n",
    "        \n",
    "print(true_count, false_count)"
   ]
  },
  {
   "cell_type": "code",
   "execution_count": null,
   "metadata": {},
   "outputs": [],
   "source": []
  }
 ],
 "metadata": {
  "kernelspec": {
   "display_name": "Python 3",
   "language": "python",
   "name": "python3"
  },
  "language_info": {
   "codemirror_mode": {
    "name": "ipython",
    "version": 3
   },
   "file_extension": ".py",
   "mimetype": "text/x-python",
   "name": "python",
   "nbconvert_exporter": "python",
   "pygments_lexer": "ipython3",
   "version": "3.8.5"
  }
 },
 "nbformat": 4,
 "nbformat_minor": 4
}
